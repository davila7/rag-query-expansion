{
 "cells": [
  {
   "cell_type": "code",
   "execution_count": 18,
   "metadata": {},
   "outputs": [],
   "source": [
    "from helper_utils import word_wrap"
   ]
  },
  {
   "cell_type": "code",
   "execution_count": 19,
   "metadata": {},
   "outputs": [
    {
     "name": "stdout",
     "output_type": "stream",
     "text": [
      "1 Dear shareholders, colleagues, customers, and partners:  \n",
      "We are\n",
      "living through a period of historic economic, societal, and\n",
      "geopolitical change. The world in 2022 looks nothing like \n",
      "the world in\n",
      "2019. As I write this, inflation is at a 40 -year high, supply chains\n",
      "are stretched, and the war in Ukraine is \n",
      "ongoing. At the same time, we\n",
      "are entering a technological era with the potential to power awesome\n",
      "advancements \n",
      "across every sector of our economy and society. As the\n",
      "world’s largest software company, this places us at a historic\n",
      "\n",
      "intersection of opportunity and responsibility to the world around us.\n",
      " \n",
      "Our mission to empower every person and every organization on the\n",
      "planet to achieve more has never been more \n",
      "urgent or more necessary.\n",
      "For all the uncertainty in the world, one thing is clear: People and\n",
      "organizations in every \n",
      "industry are increasingly looking to digital\n",
      "technology to overcome today’s challenges and emerge stronger. And no\n",
      "\n",
      "company is better positioned to help them than Microsoft.  \n",
      "Every day\n",
      "this past fiscal year I have had the privilege to witness our customers\n",
      "use our platforms and tools to connect \n",
      "what technology can do with\n",
      "what the world needs  it to do.  \n",
      "Here are just a few examples:  \n",
      "•\n",
      "Ferrovial, which builds and manages some of the world’s busiest\n",
      "airports and highways, is using our cloud \n",
      "infrastructure to build\n",
      "safer roads as it prepares for a future of autonomous transportation. \n",
      "\n",
      "• Peace Parks Foundation, a nonprofit helping protect natural\n",
      "ecosystems in Southern Africa, is using Microsoft \n",
      "Dynamics 365 and\n",
      "Power BI to secure essential funding, as well as our Azure AI and IoT\n",
      "solutions to help \n",
      "rangers scale their park maintenance and wildlife\n",
      "crime prevention work.  \n",
      "• One of the world’s largest robotics\n",
      "companies, Kawasaki Heavy Industries, is using the breadth of our tools\n",
      "—\n",
      "from Azure IoT and HoloLens —to create an industrial metaverse\n",
      "solution that brings its distributed workforce \n",
      "together with its\n",
      "network of connected equipment to improve productivity and keep\n",
      "employees safe.  \n",
      "• Globo, the biggest media and TV company in Brazil,\n",
      "is using Power Platform to empower its employees to \n",
      "build their own\n",
      "solutions for everything from booking sets to setting schedules.  \n",
      "•\n",
      "And Ørsted, which produces a quarter of the world’s wind energy, is\n",
      "using the Microsoft Intelligent Data \n",
      "Platform to turn data from its\n",
      "offshore turbines into insights for predictive maintenance.  \n",
      "Amid this\n",
      "dynamic environment, we delivered record results in fiscal year 2022:\n",
      "We reported $198  billion in revenue and \n",
      "$83 billion in operating\n",
      "income. And the Microsoft Cloud surpassed $100  billion in annualized\n",
      "revenue for the first time.  \n",
      "OUR RESPONSIBILITY  \n",
      "As a corporation,\n",
      "our purpose and actions must be aligned with addressing the world’s\n",
      "problems, not creating new ones. \n",
      "At our very core, we need to deliver\n",
      "innovation that helps drive broad economic growth. We, as a company,\n",
      "will do well \n",
      "when the world around us does well.  \n",
      "That’s what I\n",
      "believe will lead to widespread human progress and ultimately improve\n",
      "the lives of everyone. There is no \n",
      "more powerful input than digital\n",
      "technology to drive the world’s economic output. This is the core\n",
      "thesis for our being as a \n",
      "company, but it’s not enough. As we drive\n",
      "global economic growth, we must also commit to creating a more\n",
      "inclusive, \n",
      "equitable, sustainable, and trusted future.  \n",
      "Support\n",
      "inclusive economic growth  \n",
      "We must ensure the growth we drive reaches\n",
      "every person, organization, community, and country. This starts with\n",
      "\n",
      "increasing access to digital skills. This year alone, more than 23 \n",
      "million people accessed digital skills training as part of \n",
      "our global\n",
      "skills initiative.\n"
     ]
    }
   ],
   "source": [
    "from pypdf import PdfReader\n",
    "\n",
    "reader = PdfReader(\"microsoft_annual_report_2022.pdf\")\n",
    "pdf_texts = [p.extract_text().strip() for p in reader.pages]\n",
    "\n",
    "# Filter the empty strings\n",
    "pdf_texts = [text for text in pdf_texts if text]\n",
    "\n",
    "print(word_wrap(pdf_texts[0]))"
   ]
  },
  {
   "cell_type": "code",
   "execution_count": 20,
   "metadata": {},
   "outputs": [],
   "source": [
    "from langchain.text_splitter import RecursiveCharacterTextSplitter, SentenceTransformersTokenTextSplitter"
   ]
  },
  {
   "cell_type": "code",
   "execution_count": 21,
   "metadata": {},
   "outputs": [
    {
     "name": "stdout",
     "output_type": "stream",
     "text": [
      "increased, due in large part to significant global datacenter\n",
      "expansions and the growth in Xbox sales and usage. Despite \n",
      "these\n",
      "increases, we remain dedicated to achieving a net -zero future. We\n",
      "recognize that progress won’t always be linear, \n",
      "and the rate at which\n",
      "we can implement emissions reductions is dependent on many factors that\n",
      "can fluctuate over time.  \n",
      "On the path to becoming water positive, we\n",
      "invested in 21 water replenishment projects that are expected to\n",
      "generate \n",
      "over 1.3  million cubic meters of volumetric benefits in nine\n",
      "water basins around the world. Progress toward our zero waste\n",
      "\n",
      "commitment included diverting more than 15,200 metric tons of solid\n",
      "waste otherwise headed to landfills and incinerators, \n",
      "as well as\n",
      "launching new Circular Centers to increase reuse and reduce e -waste at\n",
      "our datacenters.  \n",
      "We contracted to protect over 17,000 acres of land\n",
      "(50% more than the land we use to operate), thus achieving our\n",
      "\n",
      "Total chunks: 347\n"
     ]
    }
   ],
   "source": [
    "character_splitter = RecursiveCharacterTextSplitter(\n",
    "    separators=[\"\\n\\n\", \"\\n\", \". \", \" \", \"\"],\n",
    "    chunk_size=1000,\n",
    "    chunk_overlap=0\n",
    ")\n",
    "character_split_texts = character_splitter.split_text('\\n\\n'.join(pdf_texts))\n",
    "\n",
    "print(word_wrap(character_split_texts[10]))\n",
    "print(f\"\\nTotal chunks: {len(character_split_texts)}\")"
   ]
  },
  {
   "cell_type": "code",
   "execution_count": 22,
   "metadata": {},
   "outputs": [
    {
     "name": "stderr",
     "output_type": "stream",
     "text": [
      "/usr/local/lib/python3.11/site-packages/tqdm/auto.py:21: TqdmWarning: IProgress not found. Please update jupyter and ipywidgets. See https://ipywidgets.readthedocs.io/en/stable/user_install.html\n",
      "  from .autonotebook import tqdm as notebook_tqdm\n"
     ]
    },
    {
     "name": "stdout",
     "output_type": "stream",
     "text": [
      "increased, due in large part to significant global datacenter\n",
      "expansions and the growth in xbox sales and usage. despite these\n",
      "increases, we remain dedicated to achieving a net - zero future. we\n",
      "recognize that progress won ’ t always be linear, and the rate at which\n",
      "we can implement emissions reductions is dependent on many factors that\n",
      "can fluctuate over time. on the path to becoming water positive, we\n",
      "invested in 21 water replenishment projects that are expected to\n",
      "generate over 1. 3 million cubic meters of volumetric benefits in nine\n",
      "water basins around the world. progress toward our zero waste\n",
      "commitment included diverting more than 15, 200 metric tons of solid\n",
      "waste otherwise headed to landfills and incinerators, as well as\n",
      "launching new circular centers to increase reuse and reduce e - waste\n",
      "at our datacenters. we contracted to protect over 17, 000 acres of land\n",
      "( 50 % more than the land we use to operate ), thus achieving our\n",
      "\n",
      "Total chunks: 349\n"
     ]
    }
   ],
   "source": [
    "token_splitter = SentenceTransformersTokenTextSplitter(chunk_overlap=0, tokens_per_chunk=256)\n",
    "\n",
    "token_split_texts = []\n",
    "for text in character_split_texts:\n",
    "    token_split_texts += token_splitter.split_text(text)\n",
    "\n",
    "print(word_wrap(token_split_texts[10]))\n",
    "print(f\"\\nTotal chunks: {len(token_split_texts)}\")"
   ]
  },
  {
   "cell_type": "code",
   "execution_count": 23,
   "metadata": {},
   "outputs": [
    {
     "name": "stderr",
     "output_type": "stream",
     "text": [
      "huggingface/tokenizers: The current process just got forked, after parallelism has already been used. Disabling parallelism to avoid deadlocks...\n",
      "To disable this warning, you can either:\n",
      "\t- Avoid using `tokenizers` before the fork if possible\n",
      "\t- Explicitly set the environment variable TOKENIZERS_PARALLELISM=(true | false)\n"
     ]
    },
    {
     "name": "stdout",
     "output_type": "stream",
     "text": [
      "[[0.042562663555145264, 0.03321179375052452, 0.030340095981955528, -0.03486659377813339, 0.06841649860143661, -0.08090909570455551, -0.01547437347471714, -0.0014509280445054173, -0.016744492575526237, 0.06770771741867065, -0.050541363656520844, -0.04919535666704178, 0.05139993876218796, 0.09192729741334915, -0.07177840173244476, 0.03951972723007202, -0.01283353567123413, -0.02494746260344982, -0.046228643506765366, -0.02435753494501114, 0.033949676901102066, 0.025502441450953484, 0.027317116037011147, -0.00412623630836606, -0.03633834421634674, 0.0036908744368702173, -0.027430474758148193, 0.004796736873686314, -0.028896238654851913, -0.018870744854211807, 0.036666303873062134, 0.025695858523249626, 0.03131285309791565, -0.06393436342477798, 0.05394405126571655, 0.08225348591804504, -0.04175686836242676, -0.00699580367654562, -0.023486047983169556, -0.03074796125292778, -0.002979214768856764, -0.07790938019752502, 0.009353118017315865, 0.00316287181340158, -0.022257009521126747, -0.018294688314199448, -0.009612456895411015, -0.031506847590208054, -0.005519622936844826, -0.032703034579753876, 0.1680297702550888, -0.04745969548821449, -0.050016850233078, -0.0026596528477966785, -0.04104723781347275, -0.07003942877054214, 0.01829594559967518, -0.03143112733960152, -0.047411173582077026, -0.023663649335503578, 0.059449490159749985, -0.07201442122459412, 0.004945211578160524, -0.05532696843147278, 0.08745483309030533, 0.027872653678059578, -0.03977255895733833, 0.03452996537089348, -0.09992028027772903, 0.03289763256907463, -0.057804230600595474, 0.002454661764204502, -0.027892297133803368, -0.04994703084230423, -0.040582481771707535, 0.01191751379519701, 0.020419057458639145, 0.07765400409698486, 0.06351618468761444, 0.01754685863852501, 0.023460961878299713, -0.007916605100035667, 0.0170742254704237, 0.008641216903924942, -0.06815341114997864, 0.03429615497589111, 0.0006464878679253161, 0.02273542992770672, 0.05279358848929405, -0.058573201298713684, -0.09784109145402908, -0.0014718570746481419, 0.1373988687992096, 0.0020794831216335297, -0.07581518590450287, 0.05786575376987457, -0.06069638580083847, -0.06595756113529205, -0.03365057334303856, -0.031859248876571655, 0.012266596779227257, 0.09373301267623901, 0.067995086312294, -0.08434036374092102, 0.04402470961213112, -0.04263874515891075, 0.011163054034113884, 0.105052150785923, 0.029505789279937744, -0.018521107733249664, -0.029688270762562752, -0.03377029299736023, 0.001496709999628365, 0.03732367977499962, -0.02024969831109047, 0.05842079967260361, -0.039791643619537354, -0.021219665184617043, 0.0064180875197052956, -0.010290179401636124, 0.019626127555966377, 0.003679710440337658, -0.05031091719865799, -0.016897080466151237, 0.048544954508543015, 0.0668230801820755, 0.01953633315861225, 2.7227498103516624e-33, -0.03593408316373825, 0.015661893412470818, 0.09677653759717941, -0.00028517175815068185, -0.00976850651204586, -0.09068475663661957, 0.014486309140920639, 0.012590725906193256, 0.025435831397771835, -0.034434862434864044, 0.004262939095497131, 0.027121378108859062, -0.02040998637676239, 0.07688485831022263, 0.03572101891040802, -0.13492532074451447, 0.05657854303717613, 0.01836453750729561, 0.022577881813049316, -0.03589034080505371, -0.011456687934696674, -0.04993824660778046, -0.016012385487556458, -0.06335370987653732, 0.10463960468769073, -0.0880160704255104, -0.0044623007997870445, -0.010301044210791588, -0.017630737274885178, -0.02029227837920189, 0.006704182829707861, 0.0917234942317009, -0.0077950614504516125, 0.005949399899691343, -0.015348845161497593, 0.0182795487344265, -0.018921492621302605, 0.03987526893615723, -0.003967327997088432, 0.03341926634311676, -0.0560772530734539, 0.07581255584955215, -0.005625513847917318, -0.05445525422692299, 0.06698442250490189, -0.025974370539188385, 0.11199561506509781, -0.03642139956355095, 0.0050125932320952415, 0.03201001137495041, 0.049636926501989365, 0.09711597859859467, -0.11546940356492996, 0.06413274258375168, -0.03397878631949425, -0.0929156020283699, 0.049754828214645386, -0.08613421022891998, -0.00836638268083334, -0.013703706674277782, -0.07882801443338394, 0.019654328003525734, -0.03715045377612114, 0.014476168900728226, -0.04940314218401909, 0.053492385894060135, 0.09139014035463333, 0.031002869829535484, 0.030287640169262886, 0.021342797204852104, -0.043937716633081436, -0.042974408715963364, -0.002265054965391755, -0.0219440795481205, 0.0054746209643781185, -0.01024393830448389, 0.021677985787391663, -0.027323663234710693, -0.0007882671779952943, 0.03308914601802826, -0.007402379065752029, 0.009830016642808914, 0.013544061221182346, -0.03274482861161232, 0.05601907894015312, -0.060116495937108994, 0.03112201578915119, 0.03442240133881569, 0.026550501585006714, -0.006807930767536163, -0.011054251343011856, -0.014439904130995274, 0.022785376757383347, -0.02795196697115898, -0.016208987683057785, -3.689251551173317e-33, 0.02920369803905487, 0.046704888343811035, -0.04964415356516838, 0.06324490904808044, 0.028438009321689606, -0.02235717698931694, 0.033479854464530945, -0.018478713929653168, 0.018780095502734184, 0.002411671681329608, -0.08167841285467148, 0.10084162652492523, 0.04902315512299538, 0.0364672914147377, -0.04556041955947876, -0.07049194723367691, 0.02534043975174427, -0.032679446041584015, -0.04296497628092766, -0.07251022756099701, 0.041307106614112854, 0.05049723759293556, 0.006477164104580879, -0.003325006691738963, -0.08235663175582886, 0.08007718622684479, -0.034653909504413605, 0.008470488712191582, 0.04138944670557976, -0.010147656314074993, -0.10289657115936279, 0.0456712432205677, 0.012796049937605858, -0.06017765402793884, -0.026627833023667336, -0.09725233912467957, 0.01579863205552101, 0.0721912756562233, -0.015325833112001419, 0.001807094900868833, 0.06039534509181976, -0.07077642530202866, -0.02127874828875065, -0.038516297936439514, -0.05741111934185028, -0.004253845661878586, 0.03280763328075409, -0.017595605924725533, 0.04975764453411102, -0.007379050366580486, -0.008354555815458298, 0.04313785955309868, -0.054291605949401855, 0.04316212981939316, 0.023688603192567825, 0.01817159540951252, 0.09282209724187851, -0.004222922492772341, -0.022514553740620613, 0.01928829215466976, -0.03684435039758682, 0.10015188157558441, 0.01776479184627533, 0.02284955233335495, -0.03967685252428055, 0.0016808509826660156, 0.05066923797130585, 0.0856492817401886, -0.026413582265377045, -0.03266860917210579, -0.036949627101421356, -0.02099403366446495, 0.017766078934073448, -0.07413069158792496, -0.024688148871064186, -0.03994891792535782, -0.02476796880364418, -0.024194063618779182, -0.010816407389938831, 0.010816001333296299, -0.030551744624972343, 0.10519368201494217, -0.008021754212677479, -0.032896291464567184, 0.14804388582706451, -0.07094291597604752, -0.0502191036939621, -0.15231889486312866, 0.022767474874854088, 0.13845957815647125, -0.0792330875992775, -0.0416010245680809, -0.09371671080589294, 0.0660182535648346, 0.04352034628391266, -4.9979703931057884e-08, -0.010548083111643791, 0.06008027866482735, 0.0288234930485487, 0.07072244584560394, 0.03157535195350647, -0.059137992560863495, 0.054883357137441635, 0.16316649317741394, 0.03475949168205261, 0.02787543274462223, 0.0712677389383316, -0.006946363486349583, -0.05290435254573822, 0.011619031429290771, -0.02683500200510025, 0.028954314067959785, 0.043446920812129974, -0.07012000679969788, -0.058793991804122925, -0.03921937942504883, -0.017293937504291534, -0.030054448172450066, -0.08112526684999466, -0.0450621023774147, 0.05249617621302605, -0.0492357462644577, 0.08052122592926025, 0.06585512310266495, -0.0006080905441194773, -0.045664094388484955, 0.030586984008550644, -0.006386080291122198, -0.03175576403737068, 0.008228806778788567, 0.010760962963104248, 0.0010412430856376886, 0.01907871477305889, 0.03227989003062248, -0.0144087178632617, 0.03579794615507126, -0.0722818598151207, 0.033632975071668625, 0.006663558539003134, -0.018206223845481873, -0.020436275750398636, -0.002635393990203738, -0.1854771375656128, 0.01244930736720562, 0.02973133511841297, -0.038548484444618225, -0.009753362275660038, -0.013694336637854576, 0.009183361195027828, 0.08488920331001282, 0.1272188127040863, 0.05545998364686966, -0.04936164617538452, -0.011912002228200436, -0.056979287415742874, 0.10420086234807968, 0.05718066170811653, -0.10395054519176483, -0.0237678661942482, -0.027168985456228256]]\n"
     ]
    }
   ],
   "source": [
    "import chromadb\n",
    "from chromadb.utils.embedding_functions import SentenceTransformerEmbeddingFunction\n",
    "\n",
    "embedding_function = SentenceTransformerEmbeddingFunction()\n",
    "print(embedding_function([token_split_texts[10]]))"
   ]
  },
  {
   "cell_type": "code",
   "execution_count": 24,
   "metadata": {},
   "outputs": [
    {
     "data": {
      "text/plain": [
       "349"
      ]
     },
     "execution_count": 24,
     "metadata": {},
     "output_type": "execute_result"
    }
   ],
   "source": [
    "chroma_client = chromadb.Client()\n",
    "chroma_collection = chroma_client.create_collection(\"microsoft_annual_report_2022\", embedding_function=embedding_function)\n",
    "\n",
    "ids = [str(i) for i in range(len(token_split_texts))]\n",
    "\n",
    "chroma_collection.add(ids=ids, documents=token_split_texts)\n",
    "chroma_collection.count()"
   ]
  },
  {
   "cell_type": "code",
   "execution_count": 25,
   "metadata": {},
   "outputs": [
    {
     "name": "stdout",
     "output_type": "stream",
     "text": [
      "revenue, classified by significant product and service offerings, was\n",
      "as follows : ( in millions ) year ended june 30, 2022 2021 2020 server\n",
      "products and cloud services $ 67, 321 $ 52, 589 $ 41, 379 office\n",
      "products and cloud services 44, 862 39, 872 35, 316 windows 24, 761 22,\n",
      "488 21, 510 gaming 16, 230 15, 370 11, 575 linkedin 13, 816 10, 289 8,\n",
      "077 search and news advertising 11, 591 9, 267 8, 524 enterprise\n",
      "services 7, 407 6, 943 6, 409 devices 6, 991 6, 791 6, 457 other 5, 291\n",
      "4, 479 3, 768 total $ 198, 270 $ 168, 088 $ 143, 015 we have recast\n",
      "certain previously reported amounts in the table above to conform to\n",
      "the way we internally manage and monitor our business.\n",
      "\n",
      "\n",
      "74 note 13 — unearned revenue unearned revenue by segment was as\n",
      "follows : ( in millions ) june 30, 2022 2021 productivity and business\n",
      "processes $ 24, 558 $ 22, 120 intelligent cloud 19, 371 17, 710 more\n",
      "personal computing 4, 479 4, 311 total $ 48, 408 $ 44, 141 changes in\n",
      "unearned revenue were as follows : ( in millions ) year ended june 30,\n",
      "2022 balance, beginning of period $ 44, 141 deferral of revenue 110,\n",
      "455 recognition of unearned revenue ( 106, 188 ) balance, end of period\n",
      "$ 48, 408 revenue allocated to remaining performance obligations, which\n",
      "includes unearned revenue and amounts that will be invoiced and\n",
      "recognized as revenue in future periods, was $ 193 billion as of june\n",
      "30, 2022, of which $ 189 billion is related to the commercial portion\n",
      "of revenue. we expect to recognize approximately 45 % of this revenue\n",
      "over the next 12\n",
      "\n",
      "\n",
      "that are not sold separately. • we tested the mathematical accuracy of\n",
      "management ’ s calculations of revenue and the associated timing of\n",
      "revenue recognized in the financial statements.\n",
      "\n",
      "\n",
      "82 in addition, certain costs incurred at a corporate level that are\n",
      "identifiable and that benefit our segments are allocated to them. these\n",
      "allocated costs include legal, including settlements and fines,\n",
      "information technology, human resources, finance, excise taxes, field\n",
      "selling, shared facilities services, and customer service and support.\n",
      "each allocation is measured differently based on the specific facts and\n",
      "circumstances of the costs being allocated. segment revenue and\n",
      "operating income were as follows during the periods presented : ( in\n",
      "millions ) year ended june 30, 2022 2021 2020 revenue productivity and\n",
      "business processes $ 63, 364 $ 53, 915 $ 46, 398 intelligent cloud 75,\n",
      "251 60, 080 48, 366 more personal computing 59, 655 54, 093 48, 251\n",
      "total $ 198, 270 $ 168, 088 $ 143, 015 operating income\n",
      "\n",
      "\n",
      "47 financial statements and supplementary data income statements ( in\n",
      "millions, except per share amounts ) year ended june 30, 2022 2021 2020\n",
      "revenue : product $ 72, 732 $ 71, 074 $ 68, 041 service and other 125,\n",
      "538 97, 014 74, 974 total revenue 198, 270 168, 088 143, 015 cost of\n",
      "revenue : product 19, 064 18, 219 16, 017 service and other 43, 586 34,\n",
      "013 30, 061 total cost of revenue 62, 650 52, 232 46, 078 gross margin\n",
      "135, 620 115, 856 96, 937 research and development 24, 512 20, 716 19,\n",
      "269 sales and marketing 21, 825 20, 117 19, 598 general and\n",
      "administrative 5, 900 5, 107 5, 111 operating income 83, 383 69, 916\n",
      "52, 959 other income, net 333 1, 186 77 income before income taxes 83,\n",
      "716 71, 102 53, 036 provision for income taxes 10, 978 9, 831 8, 755\n",
      "\n",
      "\n"
     ]
    }
   ],
   "source": [
    "query = \"What was the total revenue?\"\n",
    "\n",
    "results = chroma_collection.query(query_texts=[query], n_results=5)\n",
    "retrieved_documents = results['documents'][0]\n",
    "\n",
    "for document in retrieved_documents:\n",
    "    print(word_wrap(document))\n",
    "    print('\\n')"
   ]
  },
  {
   "cell_type": "code",
   "execution_count": 27,
   "metadata": {},
   "outputs": [],
   "source": [
    "import os\n",
    "from judini.codegpt.chat import Completion\n",
    "from dotenv import load_dotenv\n",
    "load_dotenv()\n",
    "\n",
    "api_key= os.getenv(\"CODEGPT_API_KEY\")\n",
    "agent_id= os.getenv(\"CODEGPT_AGENT_ID\")\n",
    "\n",
    "completion = Completion(api_key)"
   ]
  },
  {
   "cell_type": "code",
   "execution_count": 28,
   "metadata": {},
   "outputs": [],
   "source": [
    "def rag(query, retrieved_documents):\n",
    "    information = \"\\n\\n\".join(retrieved_documents)\n",
    "\n",
    "    messages = {\"role\": \"user\", \"content\": f\"Question: {query}. \\n Information: {information}\"}\n",
    "    \n",
    "    response_completion = completion.create(agent_id, messages, stream=False)\n",
    "    return response_completion"
   ]
  },
  {
   "cell_type": "code",
   "execution_count": 29,
   "metadata": {},
   "outputs": [
    {
     "name": "stdout",
     "output_type": "stream",
     "text": [
      "An error occurred: API Response was: 404 Not Found https://api-beta.codegpt.co\n"
     ]
    },
    {
     "ename": "TypeError",
     "evalue": "object of type 'NoneType' has no len()",
     "output_type": "error",
     "traceback": [
      "\u001b[0;31m---------------------------------------------------------------------------\u001b[0m",
      "\u001b[0;31mTypeError\u001b[0m                                 Traceback (most recent call last)",
      "Cell \u001b[0;32mIn[29], line 3\u001b[0m\n\u001b[1;32m      1\u001b[0m output \u001b[38;5;241m=\u001b[39m rag(query\u001b[38;5;241m=\u001b[39mquery, retrieved_documents\u001b[38;5;241m=\u001b[39mretrieved_documents)\n\u001b[0;32m----> 3\u001b[0m \u001b[38;5;28mprint\u001b[39m(\u001b[43mword_wrap\u001b[49m\u001b[43m(\u001b[49m\u001b[43moutput\u001b[49m\u001b[43m)\u001b[49m)\n",
      "File \u001b[0;32m~/Proyectos/LLM/Cohere/rag-query-expansion/helper_utils.py:51\u001b[0m, in \u001b[0;36mword_wrap\u001b[0;34m(string, n_chars)\u001b[0m\n\u001b[1;32m     49\u001b[0m \u001b[38;5;28;01mdef\u001b[39;00m \u001b[38;5;21mword_wrap\u001b[39m(string, n_chars\u001b[38;5;241m=\u001b[39m\u001b[38;5;241m72\u001b[39m):\n\u001b[1;32m     50\u001b[0m     \u001b[38;5;66;03m# Wrap a string at the next space after n_chars\u001b[39;00m\n\u001b[0;32m---> 51\u001b[0m     \u001b[38;5;28;01mif\u001b[39;00m \u001b[38;5;28mlen\u001b[39m(string) \u001b[38;5;241m<\u001b[39m n_chars:\n\u001b[1;32m     52\u001b[0m         \u001b[38;5;28;01mreturn\u001b[39;00m string\n\u001b[1;32m     53\u001b[0m     \u001b[38;5;28;01melse\u001b[39;00m:\n",
      "\u001b[0;31mTypeError\u001b[0m: object of type 'NoneType' has no len()"
     ]
    }
   ],
   "source": [
    "output = rag(query=query, retrieved_documents=retrieved_documents)\n",
    "\n",
    "print(word_wrap(output))"
   ]
  }
 ],
 "metadata": {
  "kernelspec": {
   "display_name": "Python 3",
   "language": "python",
   "name": "python3"
  },
  "language_info": {
   "codemirror_mode": {
    "name": "ipython",
    "version": 3
   },
   "file_extension": ".py",
   "mimetype": "text/x-python",
   "name": "python",
   "nbconvert_exporter": "python",
   "pygments_lexer": "ipython3",
   "version": "3.11.2"
  }
 },
 "nbformat": 4,
 "nbformat_minor": 2
}
